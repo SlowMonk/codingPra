{
 "cells": [
  {
   "cell_type": "code",
   "execution_count": 1,
   "metadata": {},
   "outputs": [
    {
     "data": {
      "text/plain": [
       "'\\n스택 수열 \\n문제 난이도 : 하 \\n시간 30분 \\nhttps://www.acmicpc.net/problem/1874\\n'"
      ]
     },
     "execution_count": 1,
     "metadata": {},
     "output_type": "execute_result"
    }
   ],
   "source": [
    "'''\n",
    "스택 수열 \n",
    "문제 난이도 : 하 \n",
    "시간 30분 \n",
    "https://www.acmicpc.net/problem/1874\n",
    "\n",
    "m = 8\n",
    "make = [4,3,6,8,7,5,2,1]\n",
    "\n",
    "answer = [++++--++-++-----]\n",
    "make = [6,8,7,5,2,1]\n",
    "stack = [++++--++]\n",
    "print=[1,2,5,6]\n",
    "'''"
   ]
  },
  {
   "cell_type": "code",
   "execution_count": 14,
   "metadata": {},
   "outputs": [
    {
     "name": "stdout",
     "output_type": "stream",
     "text": [
      "stack->[], make->[4, 3, 6, 8, 7, 5, 2, 1] 0\n"
     ]
    },
    {
     "ename": "KeyboardInterrupt",
     "evalue": "",
     "output_type": "error",
     "traceback": [
      "\u001b[0;31m---------------------------------------------------------------------------\u001b[0m",
      "\u001b[0;31mKeyboardInterrupt\u001b[0m                         Traceback (most recent call last)",
      "Cell \u001b[0;32mIn [14], line 7\u001b[0m\n\u001b[1;32m      5\u001b[0m \u001b[39mprint\u001b[39m(\u001b[39mf\u001b[39m\u001b[39m'\u001b[39m\u001b[39mstack->\u001b[39m\u001b[39m{\u001b[39;00mstack\u001b[39m}\u001b[39;00m\u001b[39m, make->\u001b[39m\u001b[39m{\u001b[39;00mmake\u001b[39m}\u001b[39;00m\u001b[39m'\u001b[39m,i)\n\u001b[1;32m      6\u001b[0m \u001b[39mwhile\u001b[39;00m i  \u001b[39m!=\u001b[39m make[i]:\n\u001b[0;32m----> 7\u001b[0m     stack\u001b[39m.\u001b[39;49mappend(i)\n",
      "\u001b[0;31mKeyboardInterrupt\u001b[0m: "
     ]
    }
   ],
   "source": [
    "stack = []\n",
    "m = 8\n",
    "make = [4,3,6,8,7,5,2,1]\n",
    "for i in range(0,m+1):\n",
    "    print(f'stack->{stack}, make->{make}',i)\n",
    "    while i  != make[i]:\n",
    "        stack.append(i)\n"
   ]
  },
  {
   "cell_type": "code",
   "execution_count": null,
   "metadata": {},
   "outputs": [],
   "source": []
  }
 ],
 "metadata": {
  "kernelspec": {
   "display_name": "base",
   "language": "python",
   "name": "python3"
  },
  "language_info": {
   "codemirror_mode": {
    "name": "ipython",
    "version": 3
   },
   "file_extension": ".py",
   "mimetype": "text/x-python",
   "name": "python",
   "nbconvert_exporter": "python",
   "pygments_lexer": "ipython3",
   "version": "3.8.3"
  },
  "orig_nbformat": 4,
  "vscode": {
   "interpreter": {
    "hash": "d4d1e4263499bec80672ea0156c357c1ee493ec2b1c70f0acce89fc37c4a6abe"
   }
  }
 },
 "nbformat": 4,
 "nbformat_minor": 2
}
