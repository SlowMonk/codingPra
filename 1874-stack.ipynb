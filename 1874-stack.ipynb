{
 "cells": [
  {
   "cell_type": "code",
   "execution_count": 1,
   "metadata": {},
   "outputs": [
    {
     "data": {
      "text/plain": [
       "'\\n스택 수열 \\n문제 난이도 : 하 \\n시간 30분 \\nhttps://www.acmicpc.net/problem/1874\\n\\nm = 8\\nmake = [4,3,6,8,7,5,2,1]\\n\\nanswer = [++++--++-++-----]\\nmake = [7,5,2,1]\\nstack = [4,3,6]\\nprint=[012578]\\n++++--+++-\\n'"
      ]
     },
     "execution_count": 1,
     "metadata": {},
     "output_type": "execute_result"
    }
   ],
   "source": [
    "'''\n",
    "스택 수열 \n",
    "문제 난이도 : 하 \n",
    "시간 30분 \n",
    "https://www.acmicpc.net/problem/1874\n",
    "\n",
    "m = 8\n",
    "make = [4,3,6,8,7,5,2,1]\n",
    "\n",
    "answer = [++++--++-++-----]\n",
    "make = [7,5,2,1]\n",
    "stack = [4,3,6]\n",
    "print=[012578]\n",
    "++++--+++-\n",
    "'''"
   ]
  },
  {
   "cell_type": "code",
   "execution_count": 2,
   "metadata": {},
   "outputs": [
    {
     "data": {
      "text/plain": [
       "\"\\ntemp, stack = [], []\\nm = 8\\nmake = [4,3,6,8,7,5,2,1]\\nresult = []\\nk = [i for i in range(0,m)]\\n#for i in range(0,m+1):\\nwhile len(k) > 1:\\n    print(f'stack->{stack}, make->{make},k->{k}, result={result}')\\n    if make[0] == k[0] and make[0] not in stack:\\n        print('==================A======================')\\n        stack.append(make[0])\\n        #stack.pop()\\n        result.append('-')\\n        make = make[1:]\\n        k = k[1:]\\n    elif make[0] != k[0] and make[0] not in stack:\\n        print('==================B======================')\\n        #stack.append(make[0])\\n        result.append('+')\\n        tep = k[0]\\n        k = k[1:] + [tep\\n    elif make[0] !=k[0] and make[0] in stack:\\n        print('==================C======================')\\n        #stack.pop()\\n        make = make[1:]\\n        k = k[1:]\\n        result.append('-')\\n\""
      ]
     },
     "execution_count": 2,
     "metadata": {},
     "output_type": "execute_result"
    }
   ],
   "source": [
    "'''\n",
    "temp, stack = [], []\n",
    "m = 8\n",
    "make = [4,3,6,8,7,5,2,1]\n",
    "result = []\n",
    "k = [i for i in range(0,m)]\n",
    "#for i in range(0,m+1):\n",
    "while len(k) > 1:\n",
    "    print(f'stack->{stack}, make->{make},k->{k}, result={result}')\n",
    "    if make[0] == k[0] and make[0] not in stack:\n",
    "        print('==================A======================')\n",
    "        stack.append(make[0])\n",
    "        #stack.pop()\n",
    "        result.append('-')\n",
    "        make = make[1:]\n",
    "        k = k[1:]\n",
    "    elif make[0] != k[0] and make[0] not in stack:\n",
    "        print('==================B======================')\n",
    "        #stack.append(make[0])\n",
    "        result.append('+')\n",
    "        tep = k[0]\n",
    "        k = k[1:] + [tep\n",
    "    elif make[0] !=k[0] and make[0] in stack:\n",
    "        print('==================C======================')\n",
    "        #stack.pop()\n",
    "        make = make[1:]\n",
    "        k = k[1:]\n",
    "        result.append('-')\n",
    "'''\n"
   ]
  },
  {
   "cell_type": "code",
   "execution_count": 10,
   "metadata": {},
   "outputs": [
    {
     "name": "stdout",
     "output_type": "stream",
     "text": [
      "i->1 make->[1, 2, 5, 3, 4], stack->[], rst->[] result->[]\n",
      "i->2 make->[2, 5, 3, 4], stack->[], rst->['+', '-'] result->[1]\n",
      "i->3 make->[5, 3, 4], stack->[], rst->['+', '-', '+', '-'] result->[1, 2]\n",
      "i->4 make->[5, 3, 4], stack->[3], rst->['+', '-', '+', '-', '+'] result->[1, 2]\n",
      "i->5 make->[5, 3, 4], stack->[3, 4], rst->['+', '-', '+', '-', '+', '+'] result->[1, 2]\n",
      "i->6 make->[3, 4], stack->[3, 4], rst->['+', '-', '+', '-', '+', '+', '+', '-'] result->[1, 2, 5]\n",
      "i->6 make->[4], stack->[3], rst->['+', '-', '+', '-', '+', '+', '+', '-', '-'] result->[1, 2, 5, 4]\n",
      "i->7 make->[4], stack->[3, 6], rst->['+', '-', '+', '-', '+', '+', '+', '-', '-', '+'] result->[1, 2, 5, 4]\n"
     ]
    }
   ],
   "source": [
    "# m = 8\n",
    "# make = [4,3,6,8,7,5,2,1]\n",
    "m  = 5\n",
    "make = [1,2,5,3,4]\n",
    "stack = []\n",
    "rst = []\n",
    "result = []\n",
    "i = 1\n",
    "print(f'i->{i} make->{make}, stack->{stack}, rst->{rst} result->{result}')\n",
    "brk =len(make)+1\n",
    "kkk  = 1\n",
    "while True:\n",
    "    if i > brk:   break\n",
    "    if len(make) ==0: break\n",
    "    if i == make[0] and make[0] not in stack:\n",
    "        #print('A')\n",
    "        stack.append(i)\n",
    "        rst.append('+')\n",
    "        result.append(stack.pop())\n",
    "        rst.append('-')\n",
    "        make = make[1:]\n",
    "        i+=1\n",
    "    elif i != make[0] and make[0] not in stack:\n",
    "        #print('B')\n",
    "        stack.append(i)\n",
    "        rst.append('+')\n",
    "        i+=1\n",
    "    elif make[0] in stack:\n",
    "        #print('here')\n",
    "        result.append(stack.pop())\n",
    "        rst.append('-')\n",
    "        make = make[1:]\n",
    "    print(f'i->{i} make->{make}, stack->{stack}, rst->{rst} result->{result}')\n"
   ]
  },
  {
   "cell_type": "code",
   "execution_count": 25,
   "metadata": {},
   "outputs": [
    {
     "name": "stdout",
     "output_type": "stream",
     "text": [
      "0\n",
      "1\n",
      "2\n"
     ]
    }
   ],
   "source": [
    "for i in range(3):\n",
    "    print(i)\n",
    "    i+=1"
   ]
  },
  {
   "cell_type": "code",
   "execution_count": 13,
   "metadata": {},
   "outputs": [],
   "source": [
    "# solution\n",
    "# m = 8\n",
    "# make = [4,3,6,8,7,5,2,1]\n",
    "# m = int(input())\n",
    "# make = []\n",
    "# for i in range(m):\n",
    "#     make.append(int(input()))\n",
    "stack = []\n",
    "rst = []\n",
    "result = []\n",
    "i = 1\n",
    "brk =len(make)+1\n",
    "kkk  = 1\n",
    "while True:\n",
    "    if i > brk:   break\n",
    "    if len(make) ==0: break\n",
    "    if i == make[0] and make[0] not in stack:\n",
    "        stack.append(i)\n",
    "        print('+')\n",
    "        result.append(stack.pop())\n",
    "        print('-')\n",
    "        make = make[1:]\n",
    "        i+=1\n",
    "    elif i != make[0] and make[0] not in stack:\n",
    "        stack.append(i)\n",
    "        print('+')\n",
    "        i+=1\n",
    "    elif make[0] in stack:\n",
    "        result.append(stack.pop())\n",
    "        print('-')\n",
    "        make = make[1:]"
   ]
  },
  {
   "cell_type": "code",
   "execution_count": 12,
   "metadata": {},
   "outputs": [],
   "source": [
    "#solution2"
   ]
  },
  {
   "cell_type": "code",
   "execution_count": null,
   "metadata": {},
   "outputs": [],
   "source": []
  }
 ],
 "metadata": {
  "kernelspec": {
   "display_name": "base",
   "language": "python",
   "name": "python3"
  },
  "language_info": {
   "codemirror_mode": {
    "name": "ipython",
    "version": 3
   },
   "file_extension": ".py",
   "mimetype": "text/x-python",
   "name": "python",
   "nbconvert_exporter": "python",
   "pygments_lexer": "ipython3",
   "version": "3.8.3"
  },
  "orig_nbformat": 4,
  "vscode": {
   "interpreter": {
    "hash": "d4d1e4263499bec80672ea0156c357c1ee493ec2b1c70f0acce89fc37c4a6abe"
   }
  }
 },
 "nbformat": 4,
 "nbformat_minor": 2
}
