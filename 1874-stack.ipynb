{
 "cells": [
  {
   "cell_type": "code",
   "execution_count": 28,
   "metadata": {},
   "outputs": [
    {
     "data": {
      "text/plain": [
       "'\\n스택 수열 \\n문제 난이도 : 하 \\n시간 30분 \\nhttps://www.acmicpc.net/problem/1874\\n\\nm = 8\\nmake = [4,3,6,8,7,5,2,1]\\n\\nanswer = [++++--++-++-----]\\nmake = [7,5,2,1]\\nstack = [4,3,6]\\nprint=[012578]\\n++++--+++-\\n'"
      ]
     },
     "execution_count": 28,
     "metadata": {},
     "output_type": "execute_result"
    }
   ],
   "source": [
    "'''\n",
    "스택 수열 \n",
    "문제 난이도 : 하 \n",
    "시간 30분 \n",
    "https://www.acmicpc.net/problem/1874\n",
    "\n",
    "m = 8\n",
    "make = [4,3,6,8,7,5,2,1]\n",
    "\n",
    "answer = [++++--++-++-----]\n",
    "make = [7,5,2,1]\n",
    "stack = [4,3,6]\n",
    "print=[012578]\n",
    "++++--+++-\n",
    "'''"
   ]
  },
  {
   "cell_type": "code",
   "execution_count": 29,
   "metadata": {},
   "outputs": [
    {
     "data": {
      "text/plain": [
       "\"\\ntemp, stack = [], []\\nm = 8\\nmake = [4,3,6,8,7,5,2,1]\\nresult = []\\nk = [i for i in range(0,m)]\\n#for i in range(0,m+1):\\nwhile len(k) > 1:\\n    print(f'stack->{stack}, make->{make},k->{k}, result={result}')\\n    if make[0] == k[0] and make[0] not in stack:\\n        print('==================A======================')\\n        stack.append(make[0])\\n        #stack.pop()\\n        result.append('-')\\n        make = make[1:]\\n        k = k[1:]\\n    elif make[0] != k[0] and make[0] not in stack:\\n        print('==================B======================')\\n        #stack.append(make[0])\\n        result.append('+')\\n        tep = k[0]\\n        k = k[1:] + [tep\\n    elif make[0] !=k[0] and make[0] in stack:\\n        print('==================C======================')\\n        #stack.pop()\\n        make = make[1:]\\n        k = k[1:]\\n        result.append('-')\\n\""
      ]
     },
     "execution_count": 29,
     "metadata": {},
     "output_type": "execute_result"
    }
   ],
   "source": [
    "'''\n",
    "temp, stack = [], []\n",
    "m = 8\n",
    "make = [4,3,6,8,7,5,2,1]\n",
    "result = []\n",
    "k = [i for i in range(0,m)]\n",
    "#for i in range(0,m+1):\n",
    "while len(k) > 1:\n",
    "    print(f'stack->{stack}, make->{make},k->{k}, result={result}')\n",
    "    if make[0] == k[0] and make[0] not in stack:\n",
    "        print('==================A======================')\n",
    "        stack.append(make[0])\n",
    "        #stack.pop()\n",
    "        result.append('-')\n",
    "        make = make[1:]\n",
    "        k = k[1:]\n",
    "    elif make[0] != k[0] and make[0] not in stack:\n",
    "        print('==================B======================')\n",
    "        #stack.append(make[0])\n",
    "        result.append('+')\n",
    "        tep = k[0]\n",
    "        k = k[1:] + [tep\n",
    "    elif make[0] !=k[0] and make[0] in stack:\n",
    "        print('==================C======================')\n",
    "        #stack.pop()\n",
    "        make = make[1:]\n",
    "        k = k[1:]\n",
    "        result.append('-')\n",
    "'''\n"
   ]
  },
  {
   "cell_type": "code",
   "execution_count": 30,
   "metadata": {},
   "outputs": [
    {
     "name": "stdout",
     "output_type": "stream",
     "text": [
      "i->1 make->[1, 2, 5, 3, 4], stack->[], rst->[] result->[]\n",
      "i->2 make->[2, 5, 3, 4], stack->[], rst->['+', '-'] result->[1]\n",
      "i->3 make->[5, 3, 4], stack->[], rst->['+', '-', '+', '-'] result->[1, 2]\n",
      "i->4 make->[5, 3, 4], stack->[3], rst->['+', '-', '+', '-', '+'] result->[1, 2]\n",
      "i->5 make->[5, 3, 4], stack->[3, 4], rst->['+', '-', '+', '-', '+', '+'] result->[1, 2]\n",
      "i->6 make->[3, 4], stack->[3, 4], rst->['+', '-', '+', '-', '+', '+', '+', '-'] result->[1, 2, 5]\n",
      "i->6 make->[4], stack->[3], rst->['+', '-', '+', '-', '+', '+', '+', '-', '-'] result->[1, 2, 5, 4]\n",
      "i->7 make->[4], stack->[3, 6], rst->['+', '-', '+', '-', '+', '+', '+', '-', '-', '+'] result->[1, 2, 5, 4]\n"
     ]
    }
   ],
   "source": [
    "# m = 8\n",
    "# make = [4,3,6,8,7,5,2,1]\n",
    "m  = 5\n",
    "make = [1,2,5,3,4]\n",
    "stack = []\n",
    "rst = []\n",
    "result = []\n",
    "i = 1\n",
    "print(f'i->{i} make->{make}, stack->{stack}, rst->{rst} result->{result}')\n",
    "brk =len(make)+1\n",
    "kkk  = 1\n",
    "while True:\n",
    "    if i > brk:   break\n",
    "    if len(make) ==0: break\n",
    "    if i == make[0] and make[0] not in stack:\n",
    "        #print('A')\n",
    "        stack.append(i)\n",
    "        rst.append('+')\n",
    "        result.append(stack.pop())\n",
    "        rst.append('-')\n",
    "        make = make[1:]\n",
    "        i+=1\n",
    "    elif i != make[0] and make[0] not in stack:\n",
    "        #print('B')\n",
    "        stack.append(i)\n",
    "        rst.append('+')\n",
    "        i+=1\n",
    "    elif make[0] in stack:\n",
    "        #print('here')\n",
    "        result.append(stack.pop())\n",
    "        rst.append('-')\n",
    "        make = make[1:]\n",
    "    print(f'i->{i} make->{make}, stack->{stack}, rst->{rst} result->{result}')\n"
   ]
  },
  {
   "cell_type": "code",
   "execution_count": 31,
   "metadata": {},
   "outputs": [
    {
     "name": "stdout",
     "output_type": "stream",
     "text": [
      "0\n",
      "1\n",
      "2\n"
     ]
    }
   ],
   "source": [
    "for i in range(3):\n",
    "    print(i)\n",
    "    i+=1"
   ]
  },
  {
   "cell_type": "code",
   "execution_count": 32,
   "metadata": {},
   "outputs": [
    {
     "name": "stdout",
     "output_type": "stream",
     "text": [
      "+\n",
      "+\n",
      "+\n",
      "+\n",
      "-\n",
      "-\n",
      "+\n",
      "+\n",
      "-\n",
      "+\n",
      "+\n",
      "-\n",
      "-\n",
      "-\n",
      "-\n",
      "-\n"
     ]
    }
   ],
   "source": [
    "# solution\n",
    "m = 8\n",
    "make = [4,3,6,8,7,5,2,1]\n",
    "# m = int(input())\n",
    "# make = []\n",
    "# for i in range(m):\n",
    "#     make.append(int(input()))\n",
    "stack = []\n",
    "rst = []\n",
    "result = []\n",
    "i = 1\n",
    "brk =len(make)+1\n",
    "kkk  = 1\n",
    "while True:\n",
    "    if i > brk:   break\n",
    "    if len(make) ==0: break\n",
    "    if i == make[0] and make[0] not in stack:\n",
    "        stack.append(i)\n",
    "        print('+')\n",
    "        result.append(stack.pop())\n",
    "        print('-')\n",
    "        make = make[1:]\n",
    "        i+=1\n",
    "    elif i != make[0] and make[0] not in stack:\n",
    "        stack.append(i)\n",
    "        print('+')\n",
    "        i+=1\n",
    "    elif make[0] in stack:\n",
    "        result.append(stack.pop())\n",
    "        print('-')\n",
    "        make = make[1:]"
   ]
  },
  {
   "cell_type": "code",
   "execution_count": 33,
   "metadata": {},
   "outputs": [
    {
     "ename": "KeyboardInterrupt",
     "evalue": "Interrupted by user",
     "output_type": "error",
     "traceback": [
      "\u001b[0;31m---------------------------------------------------------------------------\u001b[0m",
      "\u001b[0;31mKeyboardInterrupt\u001b[0m                         Traceback (most recent call last)",
      "Cell \u001b[0;32mIn [33], line 2\u001b[0m\n\u001b[1;32m      1\u001b[0m \u001b[39m#solution3\u001b[39;00m\n\u001b[0;32m----> 2\u001b[0m n \u001b[39m=\u001b[39m \u001b[39mint\u001b[39m(\u001b[39minput\u001b[39;49m())\n\u001b[1;32m      3\u001b[0m count \u001b[39m=\u001b[39m \u001b[39m0\u001b[39m\n\u001b[1;32m      4\u001b[0m stack \u001b[39m=\u001b[39m []\n",
      "File \u001b[0;32m/opt/conda/lib/python3.8/site-packages/ipykernel/kernelbase.py:1177\u001b[0m, in \u001b[0;36mKernel.raw_input\u001b[0;34m(self, prompt)\u001b[0m\n\u001b[1;32m   1173\u001b[0m \u001b[39mif\u001b[39;00m \u001b[39mnot\u001b[39;00m \u001b[39mself\u001b[39m\u001b[39m.\u001b[39m_allow_stdin:\n\u001b[1;32m   1174\u001b[0m     \u001b[39mraise\u001b[39;00m StdinNotImplementedError(\n\u001b[1;32m   1175\u001b[0m         \u001b[39m\"\u001b[39m\u001b[39mraw_input was called, but this frontend does not support input requests.\u001b[39m\u001b[39m\"\u001b[39m\n\u001b[1;32m   1176\u001b[0m     )\n\u001b[0;32m-> 1177\u001b[0m \u001b[39mreturn\u001b[39;00m \u001b[39mself\u001b[39;49m\u001b[39m.\u001b[39;49m_input_request(\n\u001b[1;32m   1178\u001b[0m     \u001b[39mstr\u001b[39;49m(prompt),\n\u001b[1;32m   1179\u001b[0m     \u001b[39mself\u001b[39;49m\u001b[39m.\u001b[39;49m_parent_ident[\u001b[39m\"\u001b[39;49m\u001b[39mshell\u001b[39;49m\u001b[39m\"\u001b[39;49m],\n\u001b[1;32m   1180\u001b[0m     \u001b[39mself\u001b[39;49m\u001b[39m.\u001b[39;49mget_parent(\u001b[39m\"\u001b[39;49m\u001b[39mshell\u001b[39;49m\u001b[39m\"\u001b[39;49m),\n\u001b[1;32m   1181\u001b[0m     password\u001b[39m=\u001b[39;49m\u001b[39mFalse\u001b[39;49;00m,\n\u001b[1;32m   1182\u001b[0m )\n",
      "File \u001b[0;32m/opt/conda/lib/python3.8/site-packages/ipykernel/kernelbase.py:1219\u001b[0m, in \u001b[0;36mKernel._input_request\u001b[0;34m(self, prompt, ident, parent, password)\u001b[0m\n\u001b[1;32m   1216\u001b[0m             \u001b[39mbreak\u001b[39;00m\n\u001b[1;32m   1217\u001b[0m \u001b[39mexcept\u001b[39;00m \u001b[39mKeyboardInterrupt\u001b[39;00m:\n\u001b[1;32m   1218\u001b[0m     \u001b[39m# re-raise KeyboardInterrupt, to truncate traceback\u001b[39;00m\n\u001b[0;32m-> 1219\u001b[0m     \u001b[39mraise\u001b[39;00m \u001b[39mKeyboardInterrupt\u001b[39;00m(\u001b[39m\"\u001b[39m\u001b[39mInterrupted by user\u001b[39m\u001b[39m\"\u001b[39m) \u001b[39mfrom\u001b[39;00m \u001b[39mNone\u001b[39m\n\u001b[1;32m   1220\u001b[0m \u001b[39mexcept\u001b[39;00m \u001b[39mException\u001b[39;00m:\n\u001b[1;32m   1221\u001b[0m     \u001b[39mself\u001b[39m\u001b[39m.\u001b[39mlog\u001b[39m.\u001b[39mwarning(\u001b[39m\"\u001b[39m\u001b[39mInvalid Message:\u001b[39m\u001b[39m\"\u001b[39m, exc_info\u001b[39m=\u001b[39m\u001b[39mTrue\u001b[39;00m)\n",
      "\u001b[0;31mKeyboardInterrupt\u001b[0m: Interrupted by user"
     ]
    }
   ],
   "source": [
    "#solution3\n",
    "n = int(input())\n",
    "count = 0\n",
    "stack = []\n",
    "result = []\n",
    "no_message=True\n",
    "\n",
    "for i in range(0,n):\n",
    "    x = int(input())\n",
    "\n",
    "    while count < x:\n",
    "      count += 1\n",
    "      stack.append(count)\n",
    "      result.append(\"+\")\n",
    "\n",
    "    if stack[-1]==x:\n",
    "        stack.pop()\n",
    "        result.append(\"-\")\n",
    "    else:\n",
    "        no_message = False\n",
    "        exit(0) #a clean exit without any errors / problems\n",
    "\n",
    "if no_message==False:\n",
    "    print(\"NO\")\n",
    "else:\n",
    "    print(\"\\n\".join(result))"
   ]
  },
  {
   "cell_type": "code",
   "execution_count": 11,
   "metadata": {},
   "outputs": [
    {
     "name": "stdout",
     "output_type": "stream",
     "text": [
      "con-> 1\n",
      "con-> 1\n",
      "+\n",
      "B-i->1 , stack->[1], result->[1], make->[1]\n",
      "-\n",
      "C-i->2 , stack->[], result->[1], make->[]\n",
      "con-> 2\n",
      "con-> 2\n",
      "+\n",
      "D-i->3 , stack->[2], result->[1], make->[5, 3]\n",
      "con-> 3\n",
      "+\n",
      "D-i->4 , stack->[2, 3], result->[1], make->[5, 3, 4]\n"
     ]
    },
    {
     "ename": "ValueError",
     "evalue": "invalid literal for int() with base 10: ''",
     "output_type": "error",
     "traceback": [
      "\u001b[0;31m---------------------------------------------------------------------------\u001b[0m",
      "\u001b[0;31mValueError\u001b[0m                                Traceback (most recent call last)",
      "Cell \u001b[0;32mIn [11], line 12\u001b[0m\n\u001b[1;32m      9\u001b[0m con \u001b[39m=\u001b[39m \u001b[39m1\u001b[39m\n\u001b[1;32m     10\u001b[0m \u001b[39mwhile\u001b[39;00m \u001b[39mTrue\u001b[39;00m:\n\u001b[0;32m---> 12\u001b[0m     \u001b[39mif\u001b[39;00m flag: num \u001b[39m=\u001b[39m \u001b[39mint\u001b[39m(\u001b[39minput\u001b[39m())\n\u001b[1;32m     13\u001b[0m     \u001b[39melse\u001b[39;00m: num \u001b[39m=\u001b[39m \u001b[39mNone\u001b[39;00m\n\u001b[1;32m     14\u001b[0m     \u001b[39mif\u001b[39;00m i\u001b[39m>\u001b[39mbrk:   \n",
      "\u001b[0;31mValueError\u001b[0m: invalid literal for int() with base 10: ''"
     ]
    }
   ],
   "source": [
    "#solution2\n",
    "\n",
    "stack = []\n",
    "result = []\n",
    "make = []\n",
    "i = 1\n",
    "brk =int(input())\n",
    "flag = True\n",
    "con = 1\n",
    "while True:\n",
    "    con+=1\n",
    "    if flag: num = int(input())\n",
    "    else: num = None\n",
    "    if i>brk:   \n",
    "        for i in range(len(stack)):\n",
    "            print('-')\n",
    "        break\n",
    "    print('con->', con)\n",
    "    if len(make) ==0: \n",
    "        make.append(num)\n",
    "        #print(f'A-i->{i} , stack->{stack}, result->{result}, make->{make}')\n",
    "        continue\n",
    "    if i == make[0] and num not in stack and make[0] not in stack:\n",
    "        stack.append(i)\n",
    "        print('+')\n",
    "        result.append(i)\n",
    "        print(f'B-i->{i} , stack->{stack}, result->{result}, make->{make}')\n",
    "        stack.pop()\n",
    "        make = make[1:]\n",
    "        print('-')\n",
    "        i+=1\n",
    "        print(f'C-i->{i} , stack->{stack}, result->{result}, make->{make}')\n",
    "    elif i != make[0] and num not in stack and make[0] not in stack:\n",
    "        stack.append(i)\n",
    "        make.append(num)\n",
    "        print('+')\n",
    "        i+=1\n",
    "        print(f'D-i->{i} , stack->{stack}, result->{result}, make->{make}')\n",
    "    elif make[0] in stack:\n",
    "        result.append(stack.pop())\n",
    "        make= make[1:]\n",
    "        print('-')\n",
    "        print(f'E-i->{i} , stack->{stack}, result->{result}, make->{make}')\n",
    "        flag = False"
   ]
  },
  {
   "cell_type": "code",
   "execution_count": 6,
   "metadata": {},
   "outputs": [
    {
     "name": "stdout",
     "output_type": "stream",
     "text": [
      "+\n",
      "-\n",
      "+\n",
      "+\n"
     ]
    },
    {
     "ename": "ValueError",
     "evalue": "invalid literal for int() with base 10: ''",
     "output_type": "error",
     "traceback": [
      "\u001b[0;31m---------------------------------------------------------------------------\u001b[0m",
      "\u001b[0;31mValueError\u001b[0m                                Traceback (most recent call last)",
      "Cell \u001b[0;32mIn [6], line 11\u001b[0m\n\u001b[1;32m      8\u001b[0m flag \u001b[39m=\u001b[39m \u001b[39mTrue\u001b[39;00m\n\u001b[1;32m      9\u001b[0m \u001b[39mwhile\u001b[39;00m \u001b[39mTrue\u001b[39;00m:\n\u001b[0;32m---> 11\u001b[0m     \u001b[39mif\u001b[39;00m flag: num \u001b[39m=\u001b[39m \u001b[39mint\u001b[39m(\u001b[39minput\u001b[39m())\n\u001b[1;32m     12\u001b[0m     \u001b[39melse\u001b[39;00m: num \u001b[39m=\u001b[39m \u001b[39mNone\u001b[39;00m\n\u001b[1;32m     13\u001b[0m     \u001b[39mif\u001b[39;00m i\u001b[39m>\u001b[39mbrk:   \n",
      "\u001b[0;31mValueError\u001b[0m: invalid literal for int() with base 10: ''"
     ]
    }
   ],
   "source": [
    "#solution2\n",
    "\n",
    "stack = []\n",
    "result = []\n",
    "make = []\n",
    "i = 1\n",
    "brk =int(input())\n",
    "flag = True\n",
    "while True:\n",
    "    \n",
    "    if flag: num = int(input())\n",
    "    else: num = None\n",
    "    if i>brk:   \n",
    "        for i in range(len(stack)):\n",
    "            print('-')\n",
    "        break\n",
    "\n",
    "    if len(make) ==0: \n",
    "        make.append(num)\n",
    "        #print(f'A-i->{i} , stack->{stack}, result->{result}, make->{make}')\n",
    "        continue\n",
    "    if i == make[0] and num not in stack and make[0] not in stack:\n",
    "        stack.append(i)\n",
    "        print('+')\n",
    "        result.append(i)\n",
    "        stack.pop()\n",
    "        make = make[1:]\n",
    "        print('-')\n",
    "        i+=1\n",
    "    elif i != make[0] and num not in stack and make[0] not in stack:\n",
    "        stack.append(i)\n",
    "        make.append(num)\n",
    "        print('+')\n",
    "        i+=1\n",
    "    elif make[0] in stack:\n",
    "        result.append(stack.pop())\n",
    "        make= make[1:]\n",
    "        print('-')\n",
    "        flag = False"
   ]
  },
  {
   "cell_type": "code",
   "execution_count": 12,
   "metadata": {},
   "outputs": [
    {
     "ename": "ValueError",
     "evalue": "invalid literal for int() with base 10: ''",
     "output_type": "error",
     "traceback": [
      "\u001b[0;31m---------------------------------------------------------------------------\u001b[0m",
      "\u001b[0;31mValueError\u001b[0m                                Traceback (most recent call last)",
      "Cell \u001b[0;32mIn [12], line 2\u001b[0m\n\u001b[1;32m      1\u001b[0m \u001b[39m#solution4\u001b[39;00m\n\u001b[0;32m----> 2\u001b[0m m \u001b[39m=\u001b[39m \u001b[39mint\u001b[39;49m(\u001b[39minput\u001b[39;49m())\n\u001b[1;32m      3\u001b[0m stack, ans, find \u001b[39m=\u001b[39m [], [], \u001b[39mTrue\u001b[39;00m\n",
      "\u001b[0;31mValueError\u001b[0m: invalid literal for int() with base 10: ''"
     ]
    }
   ],
   "source": [
    "#solution4\n",
    "m = int(input())\n",
    "stack, ans, find = [], [], True"
   ]
  },
  {
   "cell_type": "code",
   "execution_count": null,
   "metadata": {},
   "outputs": [],
   "source": []
  }
 ],
 "metadata": {
  "kernelspec": {
   "display_name": "base",
   "language": "python",
   "name": "python3"
  },
  "language_info": {
   "codemirror_mode": {
    "name": "ipython",
    "version": 3
   },
   "file_extension": ".py",
   "mimetype": "text/x-python",
   "name": "python",
   "nbconvert_exporter": "python",
   "pygments_lexer": "ipython3",
   "version": "3.8.3"
  },
  "orig_nbformat": 4,
  "vscode": {
   "interpreter": {
    "hash": "d4d1e4263499bec80672ea0156c357c1ee493ec2b1c70f0acce89fc37c4a6abe"
   }
  }
 },
 "nbformat": 4,
 "nbformat_minor": 2
}
