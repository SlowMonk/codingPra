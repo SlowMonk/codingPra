{
 "cells": [
  {
   "cell_type": "code",
   "execution_count": 1,
   "metadata": {},
   "outputs": [
    {
     "data": {
      "text/plain": [
       "'\\n스택 수열 \\n문제 난이도 : 하 \\n시간 30분 \\nhttps://www.acmicpc.net/problem/1874\\n\\nm = 8\\nmake = [4,3,6,8,7,5,2,1]\\n\\nanswer = [++++--++-++-----]\\nmake = [7,5,2,1]\\nstack = [4,3,6]\\nprint=[012578]\\n++++--+++-\\n'"
      ]
     },
     "execution_count": 1,
     "metadata": {},
     "output_type": "execute_result"
    }
   ],
   "source": [
    "'''\n",
    "스택 수열 \n",
    "문제 난이도 : 하 \n",
    "시간 30분 \n",
    "https://www.acmicpc.net/problem/1874\n",
    "\n",
    "m = 8\n",
    "make = [4,3,6,8,7,5,2,1]\n",
    "\n",
    "answer = [++++--++-++-----]\n",
    "make = [7,5,2,1]\n",
    "stack = [4,3,6]\n",
    "print=[012578]\n",
    "++++--+++-\n",
    "'''"
   ]
  },
  {
   "cell_type": "code",
   "execution_count": 2,
   "metadata": {},
   "outputs": [
    {
     "data": {
      "text/plain": [
       "\"\\ntemp, stack = [], []\\nm = 8\\nmake = [4,3,6,8,7,5,2,1]\\nresult = []\\nk = [i for i in range(0,m)]\\n#for i in range(0,m+1):\\nwhile len(k) > 1:\\n    print(f'stack->{stack}, make->{make},k->{k}, result={result}')\\n    if make[0] == k[0] and make[0] not in stack:\\n        print('==================A======================')\\n        stack.append(make[0])\\n        #stack.pop()\\n        result.append('-')\\n        make = make[1:]\\n        k = k[1:]\\n    elif make[0] != k[0] and make[0] not in stack:\\n        print('==================B======================')\\n        #stack.append(make[0])\\n        result.append('+')\\n        tep = k[0]\\n        k = k[1:] + [tep\\n    elif make[0] !=k[0] and make[0] in stack:\\n        print('==================C======================')\\n        #stack.pop()\\n        make = make[1:]\\n        k = k[1:]\\n        result.append('-')\\n\""
      ]
     },
     "execution_count": 2,
     "metadata": {},
     "output_type": "execute_result"
    }
   ],
   "source": [
    "'''\n",
    "temp, stack = [], []\n",
    "m = 8\n",
    "make = [4,3,6,8,7,5,2,1]\n",
    "result = []\n",
    "k = [i for i in range(0,m)]\n",
    "#for i in range(0,m+1):\n",
    "while len(k) > 1:\n",
    "    print(f'stack->{stack}, make->{make},k->{k}, result={result}')\n",
    "    if make[0] == k[0] and make[0] not in stack:\n",
    "        print('==================A======================')\n",
    "        stack.append(make[0])\n",
    "        #stack.pop()\n",
    "        result.append('-')\n",
    "        make = make[1:]\n",
    "        k = k[1:]\n",
    "    elif make[0] != k[0] and make[0] not in stack:\n",
    "        print('==================B======================')\n",
    "        #stack.append(make[0])\n",
    "        result.append('+')\n",
    "        tep = k[0]\n",
    "        k = k[1:] + [tep\n",
    "    elif make[0] !=k[0] and make[0] in stack:\n",
    "        print('==================C======================')\n",
    "        #stack.pop()\n",
    "        make = make[1:]\n",
    "        k = k[1:]\n",
    "        result.append('-')\n",
    "'''\n"
   ]
  },
  {
   "cell_type": "code",
   "execution_count": 10,
   "metadata": {},
   "outputs": [
    {
     "name": "stdout",
     "output_type": "stream",
     "text": [
      "i->1 make->[1, 2, 5, 3, 4], stack->[], rst->[] result->[]\n",
      "i->2 make->[2, 5, 3, 4], stack->[], rst->['+', '-'] result->[1]\n",
      "i->3 make->[5, 3, 4], stack->[], rst->['+', '-', '+', '-'] result->[1, 2]\n",
      "i->4 make->[5, 3, 4], stack->[3], rst->['+', '-', '+', '-', '+'] result->[1, 2]\n",
      "i->5 make->[5, 3, 4], stack->[3, 4], rst->['+', '-', '+', '-', '+', '+'] result->[1, 2]\n",
      "i->6 make->[3, 4], stack->[3, 4], rst->['+', '-', '+', '-', '+', '+', '+', '-'] result->[1, 2, 5]\n",
      "i->6 make->[4], stack->[3], rst->['+', '-', '+', '-', '+', '+', '+', '-', '-'] result->[1, 2, 5, 4]\n",
      "i->7 make->[4], stack->[3, 6], rst->['+', '-', '+', '-', '+', '+', '+', '-', '-', '+'] result->[1, 2, 5, 4]\n"
     ]
    }
   ],
   "source": [
    "# m = 8\n",
    "# make = [4,3,6,8,7,5,2,1]\n",
    "m  = 5\n",
    "make = [1,2,5,3,4]\n",
    "stack = []\n",
    "rst = []\n",
    "result = []\n",
    "i = 1\n",
    "print(f'i->{i} make->{make}, stack->{stack}, rst->{rst} result->{result}')\n",
    "brk =len(make)+1\n",
    "kkk  = 1\n",
    "while True:\n",
    "    if i > brk:   break\n",
    "    if len(make) ==0: break\n",
    "    if i == make[0] and make[0] not in stack:\n",
    "        #print('A')\n",
    "        stack.append(i)\n",
    "        rst.append('+')\n",
    "        result.append(stack.pop())\n",
    "        rst.append('-')\n",
    "        make = make[1:]\n",
    "        i+=1\n",
    "    elif i != make[0] and make[0] not in stack:\n",
    "        #print('B')\n",
    "        stack.append(i)\n",
    "        rst.append('+')\n",
    "        i+=1\n",
    "    elif make[0] in stack:\n",
    "        #print('here')\n",
    "        result.append(stack.pop())\n",
    "        rst.append('-')\n",
    "        make = make[1:]\n",
    "    print(f'i->{i} make->{make}, stack->{stack}, rst->{rst} result->{result}')\n"
   ]
  },
  {
   "cell_type": "code",
   "execution_count": 25,
   "metadata": {},
   "outputs": [
    {
     "name": "stdout",
     "output_type": "stream",
     "text": [
      "0\n",
      "1\n",
      "2\n"
     ]
    }
   ],
   "source": [
    "for i in range(3):\n",
    "    print(i)\n",
    "    i+=1"
   ]
  },
  {
   "cell_type": "code",
   "execution_count": 7,
   "metadata": {},
   "outputs": [
    {
     "name": "stdout",
     "output_type": "stream",
     "text": [
      "+\n",
      "+\n",
      "+\n",
      "+\n",
      "-\n",
      "-\n",
      "+\n",
      "+\n",
      "-\n",
      "+\n",
      "+\n",
      "-\n",
      "-\n",
      "-\n",
      "-\n",
      "-\n"
     ]
    }
   ],
   "source": [
    "# solution\n",
    "m = 8\n",
    "make = [4,3,6,8,7,5,2,1]\n",
    "# m = int(input())\n",
    "# make = []\n",
    "# for i in range(m):\n",
    "#     make.append(int(input()))\n",
    "stack = []\n",
    "rst = []\n",
    "result = []\n",
    "i = 1\n",
    "brk =len(make)+1\n",
    "kkk  = 1\n",
    "while True:\n",
    "    if i > brk:   break\n",
    "    if len(make) ==0: break\n",
    "    if i == make[0] and make[0] not in stack:\n",
    "        stack.append(i)\n",
    "        print('+')\n",
    "        result.append(stack.pop())\n",
    "        print('-')\n",
    "        make = make[1:]\n",
    "        i+=1\n",
    "    elif i != make[0] and make[0] not in stack:\n",
    "        stack.append(i)\n",
    "        print('+')\n",
    "        i+=1\n",
    "    elif make[0] in stack:\n",
    "        result.append(stack.pop())\n",
    "        print('-')\n",
    "        make = make[1:]"
   ]
  },
  {
   "cell_type": "code",
   "execution_count": 20,
   "metadata": {},
   "outputs": [
    {
     "name": "stdout",
     "output_type": "stream",
     "text": [
      "i->1 , stack->[], result->[], make->[]\n",
      "+\n",
      "i->2 , stack->[1], result->[], make->[4, 3]\n",
      "+\n",
      "i->3 , stack->[1, 2], result->[], make->[4, 3, 6]\n",
      "+\n",
      "i->4 , stack->[1, 2, 3], result->[], make->[4, 3, 6, 8]\n",
      "+\n",
      "-\n",
      "i->5 , stack->[1, 2, 3], result->[4], make->[4, 3, 6, 8]\n",
      "+\n",
      "i->6 , stack->[1, 2, 3, 5], result->[4], make->[4, 3, 6, 8, 5]\n",
      "+\n",
      "i->7 , stack->[1, 2, 3, 5, 6], result->[4], make->[4, 3, 6, 8, 5, 2]\n",
      "+\n",
      "i->8 , stack->[1, 2, 3, 5, 6, 7], result->[4], make->[4, 3, 6, 8, 5, 2, 1]\n",
      "+\n",
      "i->9 , stack->[1, 2, 3, 5, 6, 7, 8], result->[4], make->[4, 3, 6, 8, 5, 2, 1, 1]\n"
     ]
    },
    {
     "ename": "ValueError",
     "evalue": "invalid literal for int() with base 10: ''",
     "output_type": "error",
     "traceback": [
      "\u001b[0;31m---------------------------------------------------------------------------\u001b[0m",
      "\u001b[0;31mValueError\u001b[0m                                Traceback (most recent call last)",
      "Cell \u001b[0;32mIn [20], line 11\u001b[0m\n\u001b[1;32m      9\u001b[0m \u001b[39mprint\u001b[39m(\u001b[39mf\u001b[39m\u001b[39m'\u001b[39m\u001b[39mi->\u001b[39m\u001b[39m{\u001b[39;00mi\u001b[39m}\u001b[39;00m\u001b[39m , stack->\u001b[39m\u001b[39m{\u001b[39;00mstack\u001b[39m}\u001b[39;00m\u001b[39m, result->\u001b[39m\u001b[39m{\u001b[39;00mresult\u001b[39m}\u001b[39;00m\u001b[39m, make->\u001b[39m\u001b[39m{\u001b[39;00mmake\u001b[39m}\u001b[39;00m\u001b[39m'\u001b[39m)\n\u001b[1;32m     10\u001b[0m \u001b[39mwhile\u001b[39;00m \u001b[39mTrue\u001b[39;00m:\n\u001b[0;32m---> 11\u001b[0m     num \u001b[39m=\u001b[39m \u001b[39mint\u001b[39;49m(\u001b[39minput\u001b[39;49m())\n\u001b[1;32m     12\u001b[0m     \u001b[39mif\u001b[39;00m i \u001b[39m>\u001b[39m brk:   \u001b[39mbreak\u001b[39;00m\n\u001b[1;32m     13\u001b[0m     \u001b[39mif\u001b[39;00m \u001b[39mlen\u001b[39m(make) \u001b[39m==\u001b[39m\u001b[39m0\u001b[39m: \n",
      "\u001b[0;31mValueError\u001b[0m: invalid literal for int() with base 10: ''"
     ]
    }
   ],
   "source": [
    "#solution2\n",
    "\n",
    "stack = []\n",
    "result = []\n",
    "make = []\n",
    "i = 1\n",
    "brk =int(input())\n",
    "\n",
    "print(f'i->{i} , stack->{stack}, result->{result}, make->{make}')\n",
    "while True:\n",
    "    num = int(input())\n",
    "    if i > brk:   break\n",
    "    if len(make) ==0: \n",
    "        make.append(num)\n",
    "        continue\n",
    "    if i == make[0] and make[0] not in stack:\n",
    "        stack.append(i)\n",
    "        print('+')\n",
    "        result.append(stack.pop())\n",
    "        print('-')\n",
    "        i+=1\n",
    "    elif i != make[0] and make[0] not in stack:\n",
    "        stack.append(i)\n",
    "        make.append(num)\n",
    "        print('+')\n",
    "        i+=1\n",
    "    elif make[0] in stack:\n",
    "        result.append(stack.pop())\n",
    "        print('-')\n",
    "\n",
    "    print(f'i->{i} , stack->{stack}, result->{result}, make->{make}')\n"
   ]
  },
  {
   "cell_type": "code",
   "execution_count": 21,
   "metadata": {},
   "outputs": [
    {
     "name": "stdout",
     "output_type": "stream",
     "text": [
      "+\n",
      "+\n",
      "+\n",
      "+\n",
      "-\n",
      "-\n",
      "+\n",
      "+\n",
      "-\n",
      "+\n",
      "+\n",
      "-\n",
      "-\n",
      "-\n",
      "-\n",
      "-\n"
     ]
    }
   ],
   "source": [
    "n = int(input())\n",
    "count = 0\n",
    "stack = []\n",
    "result = []\n",
    "no_message=True\n",
    "\n",
    "for i in range(0,n):\n",
    "    x = int(input())\n",
    "\n",
    "    while count < x:\n",
    "      count += 1\n",
    "      stack.append(count)\n",
    "      result.append(\"+\")\n",
    "\n",
    "    if stack[-1]==x:\n",
    "        stack.pop()\n",
    "        result.append(\"-\")\n",
    "    else:\n",
    "        no_message = False\n",
    "        exit(0) #a clean exit without any errors / problems\n",
    "\n",
    "if no_message==False:\n",
    "    print(\"NO\")\n",
    "else:\n",
    "    print(\"\\n\".join(result))"
   ]
  },
  {
   "cell_type": "code",
   "execution_count": null,
   "metadata": {},
   "outputs": [],
   "source": []
  }
 ],
 "metadata": {
  "kernelspec": {
   "display_name": "base",
   "language": "python",
   "name": "python3"
  },
  "language_info": {
   "codemirror_mode": {
    "name": "ipython",
    "version": 3
   },
   "file_extension": ".py",
   "mimetype": "text/x-python",
   "name": "python",
   "nbconvert_exporter": "python",
   "pygments_lexer": "ipython3",
   "version": "3.8.3"
  },
  "orig_nbformat": 4,
  "vscode": {
   "interpreter": {
    "hash": "d4d1e4263499bec80672ea0156c357c1ee493ec2b1c70f0acce89fc37c4a6abe"
   }
  }
 },
 "nbformat": 4,
 "nbformat_minor": 2
}
