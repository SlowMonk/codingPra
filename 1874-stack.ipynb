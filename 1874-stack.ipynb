{
 "cells": [
  {
   "cell_type": "code",
   "execution_count": 1,
   "metadata": {},
   "outputs": [
    {
     "data": {
      "text/plain": [
       "'\\n스택 수열 \\n문제 난이도 : 하 \\n시간 30분 \\nhttps://www.acmicpc.net/problem/1874\\n'"
      ]
     },
     "execution_count": 1,
     "metadata": {},
     "output_type": "execute_result"
    }
   ],
   "source": [
    "'''\n",
    "스택 수열 \n",
    "문제 난이도 : 하 \n",
    "시간 30분 \n",
    "https://www.acmicpc.net/problem/1874\n",
    "'''"
   ]
  },
  {
   "cell_type": "code",
   "execution_count": 14,
   "metadata": {},
   "outputs": [
    {
     "name": "stdout",
     "output_type": "stream",
     "text": [
      "+\n",
      "+\n",
      "+\n",
      "+\n",
      "-\n",
      "stack->[0, 1, 2, 3], make->[3, 6, 8, 7, 5, 2, 1]\n",
      "-\n",
      "stack->[0, 1, 2, 3], make->[6, 8, 7, 5, 2, 1]\n",
      "-\n",
      "stack->[0, 1, 2, 3], make->[8, 7, 5, 2, 1]\n",
      "+\n",
      "-\n",
      "stack->[0, 1, 2, 3, 7], make->[7, 5, 2, 1]\n"
     ]
    }
   ],
   "source": [
    "stack = []\n",
    "m = 8\n",
    "make = [4,3,6,8,7,5,2,1]\n",
    "for i in range(0,m+1):\n",
    "    #print('i->',i)\n",
    "    if i != make[0]:\n",
    "        if make[0] in stack:\n",
    "            stack.pop()\n",
    "            print('-')\n",
    "            stack.append(make[0])\n",
    "            make = make[1:]\n",
    "            print(f'stack->{stack}, make->{make}')\n",
    "        else:\n",
    "            print('+')\n",
    "            stack.append(i)\n",
    "    elif i == make[0]:\n",
    "        print('-')\n",
    "        stack.append(i)\n",
    "        stack.pop()\n",
    "        make = make[1:]\n",
    "        print(f'stack->{stack}, make->{make}')"
   ]
  },
  {
   "cell_type": "code",
   "execution_count": null,
   "metadata": {},
   "outputs": [],
   "source": []
  }
 ],
 "metadata": {
  "kernelspec": {
   "display_name": "base",
   "language": "python",
   "name": "python3"
  },
  "language_info": {
   "codemirror_mode": {
    "name": "ipython",
    "version": 3
   },
   "file_extension": ".py",
   "mimetype": "text/x-python",
   "name": "python",
   "nbconvert_exporter": "python",
   "pygments_lexer": "ipython3",
   "version": "3.8.3"
  },
  "orig_nbformat": 4,
  "vscode": {
   "interpreter": {
    "hash": "d4d1e4263499bec80672ea0156c357c1ee493ec2b1c70f0acce89fc37c4a6abe"
   }
  }
 },
 "nbformat": 4,
 "nbformat_minor": 2
}
