{
 "cells": [
  {
   "cell_type": "code",
   "execution_count": 19,
   "metadata": {},
   "outputs": [],
   "source": [
    "# 배열완전 탐색\n",
    "# https://www.acmicpc.net/problem/2798"
   ]
  },
  {
   "cell_type": "code",
   "execution_count": 20,
   "metadata": {},
   "outputs": [],
   "source": [
    "#n,m = list(map(int,input().split()))\n",
    "#data = list(map(int,input().split()))\n"
   ]
  },
  {
   "cell_type": "code",
   "execution_count": 43,
   "metadata": {},
   "outputs": [
    {
     "name": "stdout",
     "output_type": "stream",
     "text": [
      "[1, 2, 3]\n"
     ]
    }
   ],
   "source": [
    "lst = [1,2,3]\n",
    "lst2 = lst.copy()\n",
    "lst[1]=3\n",
    "print(lst2)"
   ]
  },
  {
   "cell_type": "code",
   "execution_count": 63,
   "metadata": {},
   "outputs": [
    {
     "name": "stdout",
     "output_type": "stream",
     "text": [
      "[36, 93, 138] 267 233 inf\n",
      "[93, 138, 181] 412 88 267\n",
      "[138, 181, 185] 504 4 412\n",
      "[181, 185, 214] 580 80 504\n",
      "[185, 214, 216] 615 115 504\n",
      "[214, 216, 245] 675 175 504\n",
      "[216, 245, 295] 756 256 504\n",
      "[245, 295, 315] 855 355 504\n",
      "[93, 138, 181] 412 88 504\n",
      "[138, 181, 185] 504 4 504\n",
      "[181, 185, 214] 580 80 504\n",
      "[185, 214, 216] 615 115 504\n",
      "[214, 216, 245] 675 175 504\n",
      "[216, 245, 295] 756 256 504\n",
      "[245, 295, 315] 855 355 504\n",
      "[36, 138, 181] 355 145 504\n",
      "[138, 181, 185] 504 4 504\n",
      "[181, 185, 214] 580 80 504\n",
      "[185, 214, 216] 615 115 504\n",
      "[214, 216, 245] 675 175 504\n",
      "[216, 245, 295] 756 256 504\n",
      "[245, 295, 315] 855 355 504\n",
      "[36, 93, 181] 310 190 504\n",
      "[93, 181, 185] 459 41 504\n",
      "[181, 185, 214] 580 80 504\n",
      "[185, 214, 216] 615 115 504\n",
      "[214, 216, 245] 675 175 504\n",
      "[216, 245, 295] 756 256 504\n",
      "[245, 295, 315] 855 355 504\n",
      "[36, 93, 138] 267 233 504\n",
      "[93, 138, 185] 416 84 504\n",
      "[138, 185, 214] 537 37 504\n",
      "[185, 214, 216] 615 115 504\n",
      "[214, 216, 245] 675 175 504\n",
      "[216, 245, 295] 756 256 504\n",
      "[245, 295, 315] 855 355 504\n",
      "[36, 93, 138] 267 233 504\n",
      "[93, 138, 181] 412 88 504\n",
      "[138, 181, 214] 533 33 504\n",
      "[181, 214, 216] 611 111 504\n",
      "[214, 216, 245] 675 175 504\n",
      "[216, 245, 295] 756 256 504\n",
      "[245, 295, 315] 855 355 504\n",
      "[36, 93, 138] 267 233 504\n",
      "[93, 138, 181] 412 88 504\n",
      "[138, 181, 185] 504 4 504\n",
      "[181, 185, 216] 582 82 504\n",
      "[185, 216, 245] 646 146 504\n",
      "[216, 245, 295] 756 256 504\n",
      "[245, 295, 315] 855 355 504\n",
      "[36, 93, 138] 267 233 504\n",
      "[93, 138, 181] 412 88 504\n",
      "[138, 181, 185] 504 4 504\n",
      "[181, 185, 214] 580 80 504\n",
      "[185, 214, 245] 644 144 504\n",
      "[214, 245, 295] 754 254 504\n",
      "[245, 295, 315] 855 355 504\n",
      "[36, 93, 138] 267 233 504\n",
      "[93, 138, 181] 412 88 504\n",
      "[138, 181, 185] 504 4 504\n",
      "[181, 185, 214] 580 80 504\n",
      "[185, 214, 216] 615 115 504\n",
      "[214, 216, 295] 725 225 504\n",
      "[216, 295, 315] 826 326 504\n",
      "[36, 93, 138] 267 233 504\n",
      "[93, 138, 181] 412 88 504\n",
      "[138, 181, 185] 504 4 504\n",
      "[181, 185, 214] 580 80 504\n",
      "[185, 214, 216] 615 115 504\n",
      "[214, 216, 245] 675 175 504\n",
      "[216, 245, 315] 776 276 504\n",
      "504\n"
     ]
    }
   ],
   "source": [
    "import math\n",
    "#n,m  = 5,21\n",
    "#data = [6,5,7,8,9]\n",
    "n,m = 10, 500\n",
    "data= [93, 181, 245, 214, 315, 36, 185, 138, 216, 295]\n",
    "data=sorted(data)\n",
    "data_temp = data.copy()\n",
    "result = math.inf\n",
    "min = math.inf\n",
    "#print(f'data->{data}')\n",
    "for i in range(n):\n",
    "    for j in range(n):\n",
    "        if len(data[j:j+3])==3: \n",
    "            print(data[j:j+3], sum(data[j:j+3]), abs(sum(data[j:j+3])-m), result)\n",
    "            if abs(sum(data[j:j+3])-m) < min: \n",
    "                min = abs(sum(data[j:j+3])-m)\n",
    "                result = sum(data[j:j+3])\n",
    "    data = data_temp.copy()\n",
    "    del data[i]\n",
    "    #print('====================',i,data,data_temp)\n",
    "print(result)\n"
   ]
  },
  {
   "cell_type": "code",
   "execution_count": 71,
   "metadata": {},
   "outputs": [
    {
     "name": "stdout",
     "output_type": "stream",
     "text": [
      "497\n"
     ]
    }
   ],
   "source": [
    "n,m = 10, 500\n",
    "data= [93, 181, 245, 214, 315, 36, 185, 138, 216, 295]\n",
    "from itertools import permutations\n",
    "import math\n",
    "\n",
    "result = 0\n",
    "min = math.inf\n",
    "list(permutations(data,3))\n",
    "for i in list(permutations(data,3)):\n",
    "    if abs(m - sum(i)) < min:\n",
    "        result = sum(i)\n",
    "        min = abs(m - sum(i))\n",
    "print(result)"
   ]
  },
  {
   "cell_type": "code",
   "execution_count": 78,
   "metadata": {},
   "outputs": [
    {
     "name": "stdout",
     "output_type": "stream",
     "text": [
      "497\n"
     ]
    }
   ],
   "source": [
    "# solution1\n",
    "n,m = list(map(int,input().split()))\n",
    "data = list(map(int,input().split()))\n",
    "\n",
    "from itertools import permutations\n",
    "import math\n",
    "\n",
    "result = math.inf\n",
    "min = math.inf\n",
    "for i in list(permutations(data,3)):\n",
    "    if abs(m - sum(i)) < min and sum(i) <= m:\n",
    "        result = sum(i)\n",
    "        min = abs(m - sum(i))\n",
    "print(result)"
   ]
  },
  {
   "cell_type": "code",
   "execution_count": 75,
   "metadata": {},
   "outputs": [
    {
     "name": "stdout",
     "output_type": "stream",
     "text": [
      "21\n"
     ]
    }
   ],
   "source": [
    "#solution2\n",
    "import itertools\n",
    "\n",
    "N, M = map(int, input().split())\n",
    "card_num = list(map(int, input().split()))\n",
    "\n",
    "# M을 넘지 않으면서 M에 최대한 가까운 카드 3장의 합\n",
    "combi_sum = [sum(combi) for combi in itertools.combinations(card_num, 3) if sum(combi) <= M]\n",
    "\n",
    "print(max(combi_sum))  # 최종 결과 : M에 최대한 가까운 카드 3장의 합"
   ]
  },
  {
   "cell_type": "code",
   "execution_count": null,
   "metadata": {},
   "outputs": [],
   "source": []
  }
 ],
 "metadata": {
  "kernelspec": {
   "display_name": "Python 3",
   "language": "python",
   "name": "python3"
  },
  "language_info": {
   "codemirror_mode": {
    "name": "ipython",
    "version": 3
   },
   "file_extension": ".py",
   "mimetype": "text/x-python",
   "name": "python",
   "nbconvert_exporter": "python",
   "pygments_lexer": "ipython3",
   "version": "3.9.6"
  },
  "orig_nbformat": 4,
  "vscode": {
   "interpreter": {
    "hash": "31f2aee4e71d21fbe5cf8b01ff0e069b9275f58929596ceb00d14d90e3e16cd6"
   }
  }
 },
 "nbformat": 4,
 "nbformat_minor": 2
}
