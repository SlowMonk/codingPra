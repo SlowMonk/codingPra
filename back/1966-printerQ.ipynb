{
 "cells": [
  {
   "cell_type": "code",
   "execution_count": 34,
   "metadata": {},
   "outputs": [],
   "source": [
    "# 실버3 \n",
    "# https://www.acmicpc.net/problem/1966"
   ]
  },
  {
   "cell_type": "code",
   "execution_count": 35,
   "metadata": {},
   "outputs": [
    {
     "name": "stdout",
     "output_type": "stream",
     "text": [
      "deque([10])\n",
      "deque([10, 0])\n",
      "deque([0])\n",
      "deque([])\n",
      "deque([5, 1, 2, 3, 4])\n",
      "deque([1, 2, 3, 4, 5])\n"
     ]
    }
   ],
   "source": [
    "# deque 사용법\n",
    "from collections import deque\n",
    "deq = deque()\n",
    "deq.appendleft(10)\n",
    "print(deq)\n",
    "deq.append(0)\n",
    "print(deq)\n",
    "deq.popleft()\n",
    "print(deq)\n",
    "deq.pop()\n",
    "print(deq)\n",
    "\n",
    "deq = deque([1,2,3,4,5])\n",
    "deq.rotate(1)\n",
    "print(deq)\n",
    "deq.rotate(-1)\n",
    "print(deq)"
   ]
  },
  {
   "cell_type": "code",
   "execution_count": 36,
   "metadata": {},
   "outputs": [
    {
     "name": "stdout",
     "output_type": "stream",
     "text": [
      "{0: 1, 1: 1, 2: 9, 3: 1, 4: 1, 5: 1}\n",
      "6\n",
      "5\n"
     ]
    }
   ],
   "source": [
    "lst = [1, 1, 9, 1, 1, 1]\n",
    "print(dict(zip([i for i in range(len(lst))],lst)))\n",
    "temp = deque(dict(zip([i for i in range(len(lst))],lst)))\n",
    "temp\n",
    "print(len(lst))\n",
    "print(max(temp))"
   ]
  },
  {
   "cell_type": "code",
   "execution_count": 46,
   "metadata": {},
   "outputs": [
    {
     "name": "stdout",
     "output_type": "stream",
     "text": [
      "2\n"
     ]
    }
   ],
   "source": [
    "#n, m = map(int, input().split())\n",
    "# list(map(int, input().split()))\n",
    "#answer 2\n",
    "n, idx= 4,2\n",
    "lst = 1,2,3,4\n",
    "\n",
    "#answer 5\n",
    "#n, idx = 6, 0\n",
    "#lst = 1, 1, 9, 1, 1, 1\n",
    "\n",
    "\n",
    "deq  = deque(lst)\n",
    "idx_num = deq[idx]\n",
    "count = 0\n",
    "while True:\n",
    "    if  idx_num == deq[0] and idx ==0 and deq[0] == max(deq): \n",
    "        print(count+1)\n",
    "        break\n",
    "    if len(deq) ==1: break\n",
    "    if deq[0] == max(deq):\n",
    "        deq.popleft()\n",
    "        count +=1\n",
    "        idx -=1\n",
    "    else:\n",
    "        deq.rotate(-1)\n",
    "        if idx ==0: \n",
    "            idx = len(deq)-1\n",
    "        else: \n",
    "            idx -=1\n"
   ]
  },
  {
   "cell_type": "code",
   "execution_count": 5,
   "metadata": {},
   "outputs": [
    {
     "name": "stdout",
     "output_type": "stream",
     "text": [
      "1\n",
      "2\n",
      "5\n"
     ]
    }
   ],
   "source": [
    "# solution\n",
    "from collections import deque\n",
    "k=int(input()) #테스트케이스\n",
    "for i in range(k):\n",
    "    n, idx = map(int, input().split())\n",
    "    lst = list(map(int, input().split()))\n",
    "    deq  = deque(lst)\n",
    "    idx_num = deq[idx]\n",
    "    count = 0\n",
    "\n",
    "    while True:\n",
    "        if  idx_num == deq[0] and idx ==0 and deq[0] == max(deq): \n",
    "            print(count+1)\n",
    "            break\n",
    "        if len(deq) ==1: break\n",
    "        if deq[0] == max(deq):\n",
    "            deq.popleft()\n",
    "            count +=1\n",
    "            idx -=1\n",
    "        else:\n",
    "            deq.rotate(-1)\n",
    "            if idx ==0: \n",
    "                idx = len(deq)-1\n",
    "            else: \n",
    "                idx -=1\n"
   ]
  },
  {
   "cell_type": "code",
   "execution_count": null,
   "metadata": {},
   "outputs": [],
   "source": []
  }
 ],
 "metadata": {
  "kernelspec": {
   "display_name": "base",
   "language": "python",
   "name": "python3"
  },
  "language_info": {
   "codemirror_mode": {
    "name": "ipython",
    "version": 3
   },
   "file_extension": ".py",
   "mimetype": "text/x-python",
   "name": "python",
   "nbconvert_exporter": "python",
   "pygments_lexer": "ipython3",
   "version": "3.8.3"
  },
  "orig_nbformat": 4,
  "vscode": {
   "interpreter": {
    "hash": "d4d1e4263499bec80672ea0156c357c1ee493ec2b1c70f0acce89fc37c4a6abe"
   }
  }
 },
 "nbformat": 4,
 "nbformat_minor": 2
}
