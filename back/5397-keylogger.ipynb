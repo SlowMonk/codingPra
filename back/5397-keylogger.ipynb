{
 "cells": [
  {
   "cell_type": "code",
   "execution_count": null,
   "metadata": {},
   "outputs": [],
   "source": [
    "# medium\n",
    "#https://www.acmicpc.net/problem/5397\n",
    "#a = list(map(int,input().split()))\n",
    "#tmp = input().rstrip()\n"
   ]
  },
  {
   "cell_type": "code",
   "execution_count": 15,
   "metadata": {},
   "outputs": [
    {
     "ename": "KeyboardInterrupt",
     "evalue": "",
     "output_type": "error",
     "traceback": [
      "\u001b[0;31m---------------------------------------------------------------------------\u001b[0m",
      "\u001b[0;31mKeyboardInterrupt\u001b[0m                         Traceback (most recent call last)",
      "Cell \u001b[0;32mIn [15], line 15\u001b[0m\n\u001b[1;32m     11\u001b[0m rightstack \u001b[39m=\u001b[39m []\n\u001b[1;32m     13\u001b[0m \u001b[39m#input = \"<<BP<A>>Cd-\"\u001b[39;00m\n\u001b[1;32m     14\u001b[0m \u001b[39m#input = sys.stdin.readline\u001b[39;00m\n\u001b[0;32m---> 15\u001b[0m t \u001b[39m=\u001b[39m \u001b[39mint\u001b[39m(\u001b[39minput\u001b[39;49m())\n\u001b[1;32m     16\u001b[0m cur_idx \u001b[39m=\u001b[39m \u001b[39m0\u001b[39m\n\u001b[1;32m     17\u001b[0m \u001b[39mfor\u001b[39;00m b \u001b[39min\u001b[39;00m \u001b[39minput\u001b[39m:\n",
      "\u001b[0;31mKeyboardInterrupt\u001b[0m: "
     ]
    }
   ],
   "source": [
    "'''\n",
    "ex)\n",
    "input : <<BP<A\n",
    "output : BA\n",
    "\n",
    "<<bp<a>>cd-\n",
    "'''\n",
    "import sys\n",
    "\n",
    "leftstack = []\n",
    "rightstack = []\n",
    "\n",
    "#input = \"<<BP<A>>Cd-\"\n",
    "#input = sys.stdin.readline\n",
    "t = int(input())\n",
    "cur_idx = 0\n",
    "for b in input:\n",
    "    if b =='<' and cur_idx !=0:\n",
    "        cur_idx -=1\n",
    "    elif b =='>' and cur_idx < len(leftstack):\n",
    "        cur_idx +=1\n",
    "    elif b =='-' and len(leftstack) !=0:\n",
    "        leftstack.pop()\n",
    "        cur_idx -=1\n",
    "    elif b != '<' and b !='>' and b !='-':\n",
    "        if len(leftstack) != cur_idx:\n",
    "            rightstack = leftstack[cur_idx:]\n",
    "            leftstack = leftstack[:cur_idx]\n",
    "            leftstack.append(b)\n",
    "            leftstack += rightstack\n",
    "            cur_idx = len(leftstack)\n",
    "        else:\n",
    "            leftstack.append(b)\n",
    "            cur_idx +=1\n",
    "    #print(leftstack, cur_idx)\n",
    "print(''.join(leftstack))\n",
    "\n"
   ]
  },
  {
   "cell_type": "code",
   "execution_count": null,
   "metadata": {},
   "outputs": [],
   "source": [
    "from sys import stdin\n",
    "for _ in range(int(stdin.readline())):\n",
    "    typing = stdin.readline().strip()\n",
    "    leftstack = []\n",
    "    rightstack = []\n",
    "\n",
    "    cur_idx = 0\n",
    "    for b in typing:\n",
    "        if b =='<' and cur_idx !=0:\n",
    "            cur_idx -=1\n",
    "        elif b =='>' and cur_idx < len(leftstack):\n",
    "            cur_idx +=1\n",
    "        elif b =='-' and len(leftstack) !=0:\n",
    "            leftstack.pop()\n",
    "            cur_idx -=1\n",
    "        elif b != '<' and b !='>' and b !='-':\n",
    "            if len(leftstack) != cur_idx:\n",
    "                rightstack = leftstack[cur_idx:]\n",
    "                leftstack = leftstack[:cur_idx]\n",
    "                leftstack.append(b)\n",
    "                leftstack += rightstack\n",
    "                cur_idx = len(leftstack)\n",
    "            else:\n",
    "                leftstack.append(b)\n",
    "                cur_idx +=1\n",
    "    print(''.join(leftstack))"
   ]
  }
 ],
 "metadata": {
  "kernelspec": {
   "display_name": "base",
   "language": "python",
   "name": "python3"
  },
  "language_info": {
   "codemirror_mode": {
    "name": "ipython",
    "version": 3
   },
   "file_extension": ".py",
   "mimetype": "text/x-python",
   "name": "python",
   "nbconvert_exporter": "python",
   "pygments_lexer": "ipython3",
   "version": "3.8.3"
  },
  "orig_nbformat": 4,
  "vscode": {
   "interpreter": {
    "hash": "d4d1e4263499bec80672ea0156c357c1ee493ec2b1c70f0acce89fc37c4a6abe"
   }
  }
 },
 "nbformat": 4,
 "nbformat_minor": 2
}
