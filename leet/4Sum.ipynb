{
 "cells": [
  {
   "cell_type": "code",
   "execution_count": 35,
   "metadata": {},
   "outputs": [],
   "source": [
    "nums = [1,0,-1,0,-2,2]\n",
    "target = 0"
   ]
  },
  {
   "cell_type": "code",
   "execution_count": 77,
   "metadata": {},
   "outputs": [
    {
     "name": "stdout",
     "output_type": "stream",
     "text": [
      "[-2, -1, 0, 0, 1, 2]\n",
      "[[-2, -1], [-1, 0], [0, 0], [0, 1], [1, 2]]\n",
      "[[-2, -1, 1, 2], [-1, 0, 0, 1]]\n"
     ]
    }
   ],
   "source": [
    "def solution(nums, target):\n",
    "    output = []\n",
    "    temp = []\n",
    "    nums = sorted(nums)\n",
    "    print(nums)\n",
    "\n",
    "    for i in range(len(nums)):\n",
    "        if len(nums[i:i+2])==2: temp.append(nums[i:i+2])\n",
    "    \n",
    "    print(temp)\n",
    "    # for m in range(len(temp)):\n",
    "    #     for n in range(m+1, len(temp)):\n",
    "    #         lst_temp = sorted(temp[m] + temp[n])\n",
    "    #         if sum(lst_temp) ==target: \n",
    "    #             if lst_temp not in output: output.append(lst_temp)\n",
    "\n",
    "    print(output)\n",
    "solution(nums, target)"
   ]
  },
  {
   "cell_type": "code",
   "execution_count": null,
   "metadata": {},
   "outputs": [],
   "source": []
  }
 ],
 "metadata": {
  "kernelspec": {
   "display_name": "venv",
   "language": "python",
   "name": "python3"
  },
  "language_info": {
   "codemirror_mode": {
    "name": "ipython",
    "version": 3
   },
   "file_extension": ".py",
   "mimetype": "text/x-python",
   "name": "python",
   "nbconvert_exporter": "python",
   "pygments_lexer": "ipython3",
   "version": "3.9.6"
  },
  "orig_nbformat": 4
 },
 "nbformat": 4,
 "nbformat_minor": 2
}
